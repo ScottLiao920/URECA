{
 "cells": [
  {
   "cell_type": "code",
   "execution_count": 1,
   "metadata": {},
   "outputs": [
    {
     "data": {
      "text/plain": [
       "'G:\\\\URECA\\\\textsum\\\\CWD'"
      ]
     },
     "execution_count": 1,
     "metadata": {},
     "output_type": "execute_result"
    }
   ],
   "source": [
    "import os \n",
    "os.getcwd()"
   ]
  },
  {
   "cell_type": "code",
   "execution_count": 3,
   "metadata": {},
   "outputs": [],
   "source": [
    "import sumy"
   ]
  },
  {
   "cell_type": "code",
   "execution_count": 4,
   "metadata": {},
   "outputs": [],
   "source": [
    "from sumy.parsers.html import HtmlParser\n",
    "from sumy.parsers.plaintext import PlaintextParser\n",
    "from sumy.nlp.tokenizers import Tokenizer\n",
    "from sumy.summarizers.lex_rank import LexRankSummarizer as LexRank\n",
    "from sumy.summarizers.luhn import LuhnSummarizer as Luhn    \n",
    "from sumy.summarizers.lsa import LsaSummarizer as LSA\n",
    "from sumy.nlp.stemmers import Stemmer\n",
    "from sumy.utils import get_stop_words\n",
    "import nltk"
   ]
  },
  {
   "cell_type": "code",
   "execution_count": 5,
   "metadata": {},
   "outputs": [],
   "source": [
    "language = \"English\"\n",
    "SENTENCES_COUNT = 1"
   ]
  },
  {
   "cell_type": "code",
   "execution_count": 6,
   "metadata": {
    "collapsed": false
   },
   "outputs": [
    {
     "ename": "FileNotFoundError",
     "evalue": "[Errno 2] No such file or directory: 'K:/URECA\\\\corpus\\\\Study Reveals 75 Percent of Individuals Use Same Password for Social Networking and Email.txt'",
     "traceback": [
      "\u001b[1;31m---------------------------------------------------------------------------\u001b[0m",
      "\u001b[1;31mFileNotFoundError\u001b[0m                         Traceback (most recent call last)",
      "\u001b[1;32m<ipython-input-6-2036e708fc72>\u001b[0m in \u001b[0;36m<module>\u001b[1;34m\u001b[0m\n\u001b[0;32m      2\u001b[0m \u001b[0mparser\u001b[0m \u001b[1;33m=\u001b[0m \u001b[0mHtmlParser\u001b[0m\u001b[1;33m.\u001b[0m\u001b[0mfrom_url\u001b[0m\u001b[1;33m(\u001b[0m\u001b[0murl\u001b[0m\u001b[1;33m,\u001b[0m \u001b[0mTokenizer\u001b[0m\u001b[1;33m(\u001b[0m\u001b[0mlanguage\u001b[0m\u001b[1;33m)\u001b[0m\u001b[1;33m)\u001b[0m\u001b[1;33m\u001b[0m\u001b[1;33m\u001b[0m\u001b[0m\n\u001b[0;32m      3\u001b[0m \u001b[1;31m# or for plain text files\u001b[0m\u001b[1;33m\u001b[0m\u001b[1;33m\u001b[0m\u001b[1;33m\u001b[0m\u001b[0m\n\u001b[1;32m----> 4\u001b[1;33m \u001b[0mf\u001b[0m \u001b[1;33m=\u001b[0m \u001b[0mopen\u001b[0m\u001b[1;33m(\u001b[0m\u001b[1;34m'K:/URECA\\corpus\\Study Reveals 75 Percent of Individuals Use Same Password for Social Networking and Email.txt'\u001b[0m\u001b[1;33m,\u001b[0m\u001b[1;34m\"r\"\u001b[0m\u001b[1;33m)\u001b[0m\u001b[1;33m\u001b[0m\u001b[1;33m\u001b[0m\u001b[0m\n\u001b[0m\u001b[0;32m      5\u001b[0m \u001b[0mcontent\u001b[0m \u001b[1;33m=\u001b[0m \u001b[0mstr\u001b[0m\u001b[1;33m(\u001b[0m\u001b[0mf\u001b[0m\u001b[1;33m.\u001b[0m\u001b[0mreadlines\u001b[0m\u001b[1;33m(\u001b[0m\u001b[1;33m)\u001b[0m\u001b[1;33m[\u001b[0m\u001b[1;36m3\u001b[0m\u001b[1;33m:\u001b[0m\u001b[1;33m-\u001b[0m\u001b[1;36m7\u001b[0m\u001b[1;33m]\u001b[0m\u001b[1;33m)\u001b[0m\u001b[1;33m\u001b[0m\u001b[1;33m\u001b[0m\u001b[0m\n\u001b[0;32m      6\u001b[0m \u001b[0mf\u001b[0m\u001b[1;33m.\u001b[0m\u001b[0mclose\u001b[0m\u001b[1;33m(\u001b[0m\u001b[1;33m)\u001b[0m\u001b[1;33m\u001b[0m\u001b[1;33m\u001b[0m\u001b[0m\n",
      "\u001b[1;31mFileNotFoundError\u001b[0m: [Errno 2] No such file or directory: 'K:/URECA\\\\corpus\\\\Study Reveals 75 Percent of Individuals Use Same Password for Social Networking and Email.txt'"
     ],
     "output_type": "error"
    }
   ],
   "source": [
    "url = \"https://www.securityweek.com/study-reveals-75-percent-individuals-use-same-password-social-networking-and-email\"\n",
    "parser = HtmlParser.from_url(url, Tokenizer(language))\n",
    "# or for plain text files\n",
    "f = open('K:/URECA\\corpus\\Study Reveals 75 Percent of Individuals Use Same Password for Social Networking and Email.txt',\"r\")\n",
    "content = str(f.readlines()[3:-7])\n",
    "f.close()\n",
    "parser2 = PlaintextParser.from_file(\"K:/URECA\\corpus\\Study Reveals 75 Percent of Individuals Use Same Password for Social Networking and Email.txt\", Tokenizer(language))\n",
    "parser3 = PlaintextParser.from_string(content, Tokenizer(language))\n",
    "test_lsa = PlaintextParser.from_string(\"Study Reveals 75 Percent of Individuals Use Same Password for Social Networking and Email\", Tokenizer(language))\n",
    "stemmer = Stemmer(language)\n",
    "LR = LexRank(stemmer)\n",
    "LU = Luhn(stemmer)\n",
    "lsa = LSA(stemmer)\n",
    "LR.stop_words = get_stop_words(language)\n",
    "print(\"Original Content:\\n\"+content)\n",
    "print('\\ntokenized content')\n",
    "for i in nltk.sent_tokenize(content, language):\n",
    "    print(i)\n",
    "'''\n",
    "print(\"\\nparser1\")\n",
    "for i in LR(parser.document, SENTENCES_COUNT):\n",
    "    print(i)\n",
    "print(\"\\nparser2\")\n",
    "for i in LR(parser2.document, SENTENCES_COUNT):\n",
    "    print(i)\n",
    "print(\"\\nparser3\")\n",
    "for i in LR(parser3.document, SENTENCES_COUNT):\n",
    "    print(i)\n",
    "#These three method are not applicable, comment liao.\n",
    "'''\n",
    "print(\"\\nLexRank\")\n",
    "for sentence in LR(parser.document, SENTENCES_COUNT):\n",
    "    print(sentence)\n",
    "print(\"\\nLuhn\")\n",
    "for sentence in LU(parser.document, SENTENCES_COUNT):\n",
    "    print(sentence)\n",
    "print(\"\\nLSA\")\n",
    "for sentence in lsa(parser.document, SENTENCES_COUNT):\n",
    "    print(sentence)\n"
   ]
  },
  {
   "cell_type": "code",
   "execution_count": 15,
   "metadata": {},
   "outputs": [
    {
     "name": "stdout",
     "output_type": "stream",
     "text": [
      "\n Study Reveals 75 Percent of Individuals Use Same Password for Social Networking and Email\n\n"
     ]
    }
   ],
   "source": [
    "#generated_title = str(summarizer(parser.document, SENTENCES_COUNT))\n",
    "f = open('K:/URECA\\corpus\\Study Reveals 75 Percent of Individuals Use Same Password for Social Networking and Email.txt',\"r\")\n",
    "reference = str(f.readlines()[2])\n",
    "f.close()\n",
    "\n",
    "print('\\n', reference)"
   ]
  },
  {
   "cell_type": "code",
   "execution_count": 54,
   "metadata": {
    "collapsed": false
   },
   "outputs": [
    {
     "name": "stdout",
     "output_type": "stream",
     "text": [
      "[{'rouge-1': {'f': 0.08888888460246935, 'p': 0.06451612903225806, 'r': 0.14285714285714285}, 'rouge-2': {'f': 0.0, 'p': 0.0, 'r': 0.0}, 'rouge-l': {'f': 0.035561702781079216, 'p': 0.03225806451612903, 'r': 0.07142857142857142}}]\n[{'rouge-1': {'f': 0.05882352456747445, 'p': 0.05, 'r': 0.07142857142857142}, 'rouge-2': {'f': 0.0, 'p': 0.0, 'r': 0.0}, 'rouge-l': {'f': 0.05547282203951612, 'p': 0.05, 'r': 0.07142857142857142}}]\n[{'rouge-1': {'f': 0.08888888460246935, 'p': 0.06451612903225806, 'r': 0.14285714285714285}, 'rouge-2': {'f': 0.0, 'p': 0.0, 'r': 0.0}, 'rouge-l': {'f': 0.035561702781079216, 'p': 0.03225806451612903, 'r': 0.07142857142857142}}]\n"
     ]
    },
    {
     "data": {
      "text/plain": [
       "[{'rouge-1': {'f': 0.08888888460246935,\n   'p': 0.06451612903225806,\n   'r': 0.14285714285714285},\n  'rouge-2': {'f': 0.0, 'p': 0.0, 'r': 0.0},\n  'rouge-l': {'f': 0.035561702781079216,\n   'p': 0.03225806451612903,\n   'r': 0.07142857142857142}}]"
      ]
     },
     "execution_count": 54,
     "metadata": {},
     "output_type": "execute_result"
    }
   ],
   "source": [
    "generated_title1 = str(LR(parser.document, SENTENCES_COUNT))\n",
    "generated_title2 = str(LU(parser.document, SENTENCES_COUNT))\n",
    "generated_title3 = str(lsa(parser.document, SENTENCES_COUNT))\n",
    "from rouge import Rouge\n",
    "rouge = Rouge()\n",
    "print(rouge.get_scores(generated_title1, reference))\n",
    "print(rouge.get_scores(generated_title2, reference))\n",
    "print(rouge.get_scores(generated_title3, reference))"
   ]
  },
  {
   "cell_type": "code",
   "execution_count": null,
   "metadata": {},
   "outputs": [],
   "source": []
  }
 ],
 "metadata": {
  "kernelspec": {
   "display_name": "Python 3",
   "language": "python",
   "name": "python3"
  },
  "language_info": {
   "codemirror_mode": {
    "name": "ipython",
    "version": 3
   },
   "file_extension": ".py",
   "mimetype": "text/x-python",
   "name": "python",
   "nbconvert_exporter": "python",
   "pygments_lexer": "ipython3",
   "version": "3.6.5"
  }
 },
 "nbformat": 4,
 "nbformat_minor": 1
}
